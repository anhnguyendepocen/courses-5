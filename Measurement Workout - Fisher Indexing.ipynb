{
 "cells": [
  {
   "cell_type": "markdown",
   "metadata": {
    "slideshow": {
     "slide_type": "slide"
    }
   },
   "source": [
    "by [MachinaFantasma](https://phantomachine.github.io/) | [Twitter](https://twitter.com/MachinaFantasma)"
   ]
  },
  {
   "cell_type": "markdown",
   "metadata": {
    "slideshow": {
     "slide_type": "slide"
    },
    "toc": true
   },
   "source": [
    "<h1>Table of Contents<span class=\"tocSkip\"></span></h1>\n",
    "<div class=\"toc\"><ul class=\"toc-item\"><li><span><a href=\"#Apple,-Oranges,-Quantities-and-Inflation\" data-toc-modified-id=\"Apple,-Oranges,-Quantities-and-Inflation-1\"><span class=\"toc-item-num\">1&nbsp;&nbsp;</span>Apple, Oranges, Quantities and Inflation</a></span><ul class=\"toc-item\"><li><span><a href=\"#Problems?\" data-toc-modified-id=\"Problems?-1.1\"><span class=\"toc-item-num\">1.1&nbsp;&nbsp;</span>Problems?</a></span></li><li><span><a href=\"#Solutions?\" data-toc-modified-id=\"Solutions?-1.2\"><span class=\"toc-item-num\">1.2&nbsp;&nbsp;</span>Solutions?</a></span></li></ul></li><li><span><a href=\"#How-is-the-Fisher-Index-Constructed?\" data-toc-modified-id=\"How-is-the-Fisher-Index-Constructed?-2\"><span class=\"toc-item-num\">2&nbsp;&nbsp;</span>How is the Fisher Index Constructed?</a></span></li><li><span><a href=\"#Let's-dance!\" data-toc-modified-id=\"Let's-dance!-3\"><span class=\"toc-item-num\">3&nbsp;&nbsp;</span>Let's dance!</a></span><ul class=\"toc-item\"><li><span><a href=\"#Implementing-Step-1\" data-toc-modified-id=\"Implementing-Step-1-3.1\"><span class=\"toc-item-num\">3.1&nbsp;&nbsp;</span>Implementing Step 1</a></span></li><li><span><a href=\"#Implementing-Step-2\" data-toc-modified-id=\"Implementing-Step-2-3.2\"><span class=\"toc-item-num\">3.2&nbsp;&nbsp;</span>Implementing Step 2</a></span></li></ul></li><li><span><a href=\"#Homework-(exam-style)\" data-toc-modified-id=\"Homework-(exam-style)-4\"><span class=\"toc-item-num\">4&nbsp;&nbsp;</span>Homework (exam-style)</a></span></li><li><span><a href=\"#Reference\" data-toc-modified-id=\"Reference-5\"><span class=\"toc-item-num\">5&nbsp;&nbsp;</span>Reference</a></span></li></ul></div>"
   ]
  },
  {
   "cell_type": "code",
   "execution_count": 1,
   "metadata": {
    "slideshow": {
     "slide_type": "skip"
    }
   },
   "outputs": [],
   "source": [
    "import numpy as np\n",
    "import pandas as pd\n",
    "import matplotlib.pyplot as plt\n",
    "from IPython.display import YouTubeVideo"
   ]
  },
  {
   "cell_type": "markdown",
   "metadata": {
    "slideshow": {
     "slide_type": "slide"
    }
   },
   "source": [
    "# Apple, Oranges, Quantities and Inflation"
   ]
  },
  {
   "cell_type": "markdown",
   "metadata": {
    "slideshow": {
     "slide_type": "subslide"
    }
   },
   "source": [
    "Suppose at each date $t = 0, 1, 2, ..., T$, we have data collected \n",
    "\n",
    "* on prices $p_{it}$ \n",
    "* on quantities $q_{it}$ \n",
    "\n",
    "of individual *products* (i.e., goods and services) $i = 0, 1, ..., I$.  "
   ]
  },
  {
   "cell_type": "markdown",
   "metadata": {
    "slideshow": {
     "slide_type": "subslide"
    }
   },
   "source": [
    "How do you compare *expenditure* **quantities** over time ...\n",
    "\n",
    "... when it does not make sense to compare between expenditures on apples and oranges? \n",
    "\n",
    "... Or between haircuts and cars?"
   ]
  },
  {
   "cell_type": "markdown",
   "metadata": {
    "slideshow": {
     "slide_type": "subslide"
    }
   },
   "source": [
    "We could just aggregate up the market-traded *value*\n",
    "* i.e., calculate prices times quantity of each product variety, then sum up across all varieties.\n",
    "\n",
    "That's what we call **nominal GDP**. "
   ]
  },
  {
   "cell_type": "markdown",
   "metadata": {
    "slideshow": {
     "slide_type": "subslide"
    }
   },
   "source": [
    "So then GDP (for $N$ types of goods) at each date $t$, measured using respective date-$\\tau$ prices would be:\n",
    "\n",
    "$\n",
    "Y_{t}^{\\tau} = p_{0\\tau}q_{0t} + p_{1\\tau}q_{1t} + ... + p_{I\\tau}q_{It} \\equiv \\sum_{i=0}^{N-1}p_{i\\tau}q_{it}.\n",
    "$\n",
    "\n",
    "* If $\\tau = t$, then the measure is a current, date-$t$ nominal GDP: $Y_{t}^{t}$\n",
    "\n",
    "* If $\\tau \\neq t$, then we have $Y_{t}^{\\tau}$ measured in date-$\\tau$ constant prices."
   ]
  },
  {
   "cell_type": "markdown",
   "metadata": {
    "slideshow": {
     "slide_type": "subslide"
    }
   },
   "source": [
    "## Problems?"
   ]
  },
  {
   "cell_type": "markdown",
   "metadata": {
    "slideshow": {
     "slide_type": "subslide"
    }
   },
   "source": [
    "The measure $Y_{t}^{t}$ has *two sources* of moving parts (that change over time)!\n",
    "\n",
    "\n",
    "* Individual product prices $p_{it}$ may change (inflation), and/or,\n",
    "\n",
    "* Individual product quantities $q_{it}$ may change.\n",
    "\n",
    "So changes in this measure $Y_{t}^{t}$ over time cannot tell us *cleanly* whether they were due to inflationary effects or due to actual variations in the quantities of traded products from year to year!"
   ]
  },
  {
   "cell_type": "markdown",
   "metadata": {
    "slideshow": {
     "slide_type": "subslide"
    }
   },
   "source": [
    "## Solutions?"
   ]
  },
  {
   "cell_type": "markdown",
   "metadata": {
    "slideshow": {
     "slide_type": "subslide"
    }
   },
   "source": [
    "\n",
    "* The human brain thinks best in one dimension, using single numbers ...\n",
    "    \n",
    "    * Construct a single *index* which gives us an *aggregated* measure of these quantities.\n",
    "\n",
    "    * But *index* needs to somehow control for the source of variation due to changes in product prices.\n",
    "\n",
    "* We could have fixed a $\\tau$ and then call $Y_{t}^{\\tau}$ real GDP in year-$\\tau$ (constant) prices.\n",
    "\n",
    "    * Two flavors: Laspeyres index and Paasche index.\n",
    "    * But these methods suffers from changes in product definitions and etc.\n"
   ]
  },
  {
   "cell_type": "markdown",
   "metadata": {
    "slideshow": {
     "slide_type": "subslide"
    }
   },
   "source": [
    "A better method is called the *Fisher* or *Chain-weighted* index."
   ]
  },
  {
   "cell_type": "markdown",
   "metadata": {
    "slideshow": {
     "slide_type": "slide"
    }
   },
   "source": [
    "# How is the Fisher Index Constructed?"
   ]
  },
  {
   "cell_type": "markdown",
   "metadata": {
    "slideshow": {
     "slide_type": "subslide"
    }
   },
   "source": [
    "To calculate the Fisher index (i.e., chain-weighted) method of real GDP, we do the following.\n",
    "\n",
    "**STEP 1.** For every $t = 0,1,2, ...$:\n",
    "\n",
    "0. Calculate real GDP based on date $t$ prices (Laspeyres index):\n",
    "    * using date $t$ prices and date $t$ quantities, $(p_{i,t}, q_{i,t})$ to get $Y_{t}^{t}$\n",
    "    * using date $t$ prices and date $t+1$ quantities, $(p_{i,t}, q_{i,t+1})$ to get $Y_{t+1}^{t}$\n",
    "   \n",
    "\n",
    "1. Calculate real GDP based on date $t+1$ prices (Paasche index):\n",
    "    * using date $t+1$ prices and date $t$ quantities, $(p_{i,t+1}, q_{i,t})$ to get $Y_{t}^{t+1}$\n",
    "    * using date $t+1$ prices and date $t+1$ quantities, $(p_{i,t+1}, q_{i,t+1})$ to get $Y_{t+1}^{t+1}$  \n",
    "        * (This is the same as $Y_{t}^{t}$ one period ahead!)\n",
    "\n"
   ]
  },
  {
   "cell_type": "markdown",
   "metadata": {
    "slideshow": {
     "slide_type": "subslide"
    }
   },
   "source": [
    "\n",
    "\n",
    "2. Calculate growth rates for any adjacent periods $t$ and $t+1$, for each method:\n",
    "    * Laspeyres: $g_{t}^{t} = Y_{t+1}^{t}/Y_{t}^{t}$,\n",
    "    * Paasche: $g_{t}^{t+1} = Y_{t+1}^{t+1}/Y_{t}^{t+1}$,\n",
    "\n",
    "3. Then compute their geometric average growth:\n",
    "    * $g_{C,t} = \\sqrt{g_{t}^{t} \\times g_{t}^{t+1}}$.\n",
    "    \n",
    "\n"
   ]
  },
  {
   "cell_type": "markdown",
   "metadata": {
    "slideshow": {
     "slide_type": "subslide"
    }
   },
   "source": [
    "This creates a series of growth rates:\n",
    "\n",
    "\\begin{equation*}\n",
    "\\{ g_{C,t} \\}_{t=0}^{T-1} := (g_{C,0}, g_{C,1}, ..., g_{C,T-1}).\n",
    "\\end{equation*}"
   ]
  },
  {
   "cell_type": "markdown",
   "metadata": {},
   "source": [
    "Let's denote $Q$ as *chain-weighted (Fisher) Real GDP index*."
   ]
  },
  {
   "cell_type": "markdown",
   "metadata": {
    "slideshow": {
     "slide_type": "subslide"
    }
   },
   "source": [
    "**STEP 2.** Pick an arbitrary date $\\tau$ as the base year, so then the \"chain\" is relative to this base year.\n",
    "\n",
    "0. Set $Q_{\\tau} = Y_{\\tau}^{\\tau}$.\n",
    "\n",
    "1. For each $t < \\tau$, compute \n",
    "    \\begin{equation}\n",
    "    Q_{t} = \\frac{Q_{t+1}}{g_{C,t}}\n",
    "    \\label{eq: CWI forward}\n",
    "    \\end{equation}\n",
    "\n",
    "2. For each $t \\geq \\tau$, compute \n",
    "    \\begin{equation}\n",
    "    Q_{t+1} = Q_{t} \\times g_{C,t}\n",
    "    \\label{eq: CWI backward}\n",
    "    \\end{equation}"
   ]
  },
  {
   "cell_type": "markdown",
   "metadata": {
    "slideshow": {
     "slide_type": "slide"
    }
   },
   "source": [
    "# Let's dance!"
   ]
  },
  {
   "cell_type": "markdown",
   "metadata": {
    "slideshow": {
     "slide_type": "subslide"
    }
   },
   "source": [
    "Let's make up some synthetic numbers for prices and quantities.\n",
    "\n",
    "Below I design a re-usable function called ``generate_data_ApplesOranges`` to generate an example dataset for prices and quantities of apples and oranges:"
   ]
  },
  {
   "cell_type": "code",
   "execution_count": 2,
   "metadata": {
    "slideshow": {
     "slide_type": "subslide"
    }
   },
   "outputs": [],
   "source": [
    "def generate_data_ApplesOranges(exp_scale_P_apple=5.99, \n",
    "                                   exp_scale_P_orange=2.99, \n",
    "                                   int_min_Q_apple = 1,\n",
    "                                   int_max_Q_apple = 1000,\n",
    "                                   int_min_Q_orange = 1,\n",
    "                                   int_max_Q_orange = 1000,\n",
    "                                   seed = 244826,\n",
    "                                   T=3):\n",
    "    \"\"\"This function generates random prices (assuming \n",
    "    they are exponentially distributed) and quantities (assuming\n",
    "    these are uniformly distributed positive integers). The inputs are\n",
    "    parameters for the exponential (exp) and uniform integer (int) \n",
    "    distributions. See NumPy's RANDOM library for details. A default \n",
    "    random number generator seed is given. The default length of the data\n",
    "    is T = 3. All these input defaults can be overidden by the user.\n",
    "    Output is stored in a dictionary (dict) format.\"\"\"\n",
    "    # Fix random number generator seed, get same draw each time\n",
    "    np.random.seed(seed)\n",
    "    # Assume sample prices drawn from an exponential distribution\n",
    "    P_apple  = np.random.exponential(scale=exp_scale_P_apple, \n",
    "                                     size=T)\n",
    "    P_orange = np.random.exponential(scale=exp_scale_P_orange, \n",
    "                                     size=T)\n",
    "    # Assume quantities are drawn from uniform distribution \n",
    "    # over (positive) integers\n",
    "    Q_apple = np.random.randint(int_min_Q_apple, \n",
    "                                high=int_max_Q_apple, \n",
    "                                size=T)\n",
    "    Q_orange = np.random.randint(int_min_Q_orange, \n",
    "                                 high=int_max_Q_orange, \n",
    "                                 size=T)\n",
    "    # Store synthetic data in a Python dictionary (dict)\n",
    "    data = { \"P_apple\"  : P_apple, \n",
    "             \"P_orange\" : P_orange,\n",
    "             \"Q_apple\"  : Q_apple, \n",
    "             \"Q_orange\" : Q_orange, }\n",
    "    return data"
   ]
  },
  {
   "cell_type": "markdown",
   "metadata": {
    "slideshow": {
     "slide_type": "subslide"
    }
   },
   "source": [
    "We then call the function ``generate_data_ApplesOranges`` to produce our synthetic dataset."
   ]
  },
  {
   "cell_type": "code",
   "execution_count": 3,
   "metadata": {
    "slideshow": {
     "slide_type": "subslide"
    }
   },
   "outputs": [],
   "source": [
    "# Generate the fake data (dict)\n",
    "data = generate_data_ApplesOranges()"
   ]
  },
  {
   "cell_type": "markdown",
   "metadata": {
    "slideshow": {
     "slide_type": "subslide"
    }
   },
   "source": [
    "Next, we convert the output ``data`` into a ``Pandas`` dataframe ordering the data series by ``columns``:"
   ]
  },
  {
   "cell_type": "code",
   "execution_count": 4,
   "metadata": {
    "slideshow": {
     "slide_type": "subslide"
    }
   },
   "outputs": [],
   "source": [
    "# Convert data (dict) to Pandas dataframe\n",
    "df = pd.DataFrame.from_dict(data, orient='columns')"
   ]
  },
  {
   "cell_type": "markdown",
   "metadata": {
    "slideshow": {
     "slide_type": "subslide"
    }
   },
   "source": [
    "Take a quick peek at the current dataframe:"
   ]
  },
  {
   "cell_type": "code",
   "execution_count": 5,
   "metadata": {
    "slideshow": {
     "slide_type": "subslide"
    }
   },
   "outputs": [
    {
     "data": {
      "text/html": [
       "<div>\n",
       "<style scoped>\n",
       "    .dataframe tbody tr th:only-of-type {\n",
       "        vertical-align: middle;\n",
       "    }\n",
       "\n",
       "    .dataframe tbody tr th {\n",
       "        vertical-align: top;\n",
       "    }\n",
       "\n",
       "    .dataframe thead th {\n",
       "        text-align: right;\n",
       "    }\n",
       "</style>\n",
       "<table border=\"1\" class=\"dataframe\">\n",
       "  <thead>\n",
       "    <tr style=\"text-align: right;\">\n",
       "      <th></th>\n",
       "      <th>P_apple</th>\n",
       "      <th>P_orange</th>\n",
       "      <th>Q_apple</th>\n",
       "      <th>Q_orange</th>\n",
       "    </tr>\n",
       "  </thead>\n",
       "  <tbody>\n",
       "    <tr>\n",
       "      <th>0</th>\n",
       "      <td>2.075434</td>\n",
       "      <td>1.001738</td>\n",
       "      <td>641</td>\n",
       "      <td>598</td>\n",
       "    </tr>\n",
       "    <tr>\n",
       "      <th>1</th>\n",
       "      <td>0.966716</td>\n",
       "      <td>6.069813</td>\n",
       "      <td>317</td>\n",
       "      <td>39</td>\n",
       "    </tr>\n",
       "    <tr>\n",
       "      <th>2</th>\n",
       "      <td>0.945014</td>\n",
       "      <td>3.779660</td>\n",
       "      <td>638</td>\n",
       "      <td>827</td>\n",
       "    </tr>\n",
       "  </tbody>\n",
       "</table>\n",
       "</div>"
      ],
      "text/plain": [
       "    P_apple  P_orange  Q_apple  Q_orange\n",
       "0  2.075434  1.001738      641       598\n",
       "1  0.966716  6.069813      317        39\n",
       "2  0.945014  3.779660      638       827"
      ]
     },
     "execution_count": 5,
     "metadata": {},
     "output_type": "execute_result"
    }
   ],
   "source": [
    "df"
   ]
  },
  {
   "cell_type": "markdown",
   "metadata": {
    "slideshow": {
     "slide_type": "subslide"
    }
   },
   "source": [
    "## Implementing Step 1"
   ]
  },
  {
   "cell_type": "markdown",
   "metadata": {
    "slideshow": {
     "slide_type": "subslide"
    }
   },
   "source": [
    "Construct nominal GDP for our two-fruit economy: $Y_{t}^{t} = \\sum_{i=0}^{N-1}p_{i,t}q_{i,t}$."
   ]
  },
  {
   "cell_type": "code",
   "execution_count": 6,
   "metadata": {
    "scrolled": true,
    "slideshow": {
     "slide_type": "subslide"
    }
   },
   "outputs": [],
   "source": [
    "# Nominal GDP\n",
    "Y = df[\"P_apple\"]*df[\"Q_apple\"] + df[\"P_orange\"]*df[\"Q_orange\"]\n",
    "# Insert as new column to df\n",
    "df[\"Y\"] = Y"
   ]
  },
  {
   "cell_type": "markdown",
   "metadata": {
    "slideshow": {
     "slide_type": "subslide"
    }
   },
   "source": [
    "Take a quick peek at the updated dataframe.\n",
    "\n",
    "You should have a new column added with dataframe key called ``Y``:"
   ]
  },
  {
   "cell_type": "code",
   "execution_count": 7,
   "metadata": {
    "slideshow": {
     "slide_type": "subslide"
    }
   },
   "outputs": [
    {
     "data": {
      "text/html": [
       "<div>\n",
       "<style scoped>\n",
       "    .dataframe tbody tr th:only-of-type {\n",
       "        vertical-align: middle;\n",
       "    }\n",
       "\n",
       "    .dataframe tbody tr th {\n",
       "        vertical-align: top;\n",
       "    }\n",
       "\n",
       "    .dataframe thead th {\n",
       "        text-align: right;\n",
       "    }\n",
       "</style>\n",
       "<table border=\"1\" class=\"dataframe\">\n",
       "  <thead>\n",
       "    <tr style=\"text-align: right;\">\n",
       "      <th></th>\n",
       "      <th>P_apple</th>\n",
       "      <th>P_orange</th>\n",
       "      <th>Q_apple</th>\n",
       "      <th>Q_orange</th>\n",
       "      <th>Y</th>\n",
       "    </tr>\n",
       "  </thead>\n",
       "  <tbody>\n",
       "    <tr>\n",
       "      <th>0</th>\n",
       "      <td>2.075434</td>\n",
       "      <td>1.001738</td>\n",
       "      <td>641</td>\n",
       "      <td>598</td>\n",
       "      <td>1929.392605</td>\n",
       "    </tr>\n",
       "    <tr>\n",
       "      <th>1</th>\n",
       "      <td>0.966716</td>\n",
       "      <td>6.069813</td>\n",
       "      <td>317</td>\n",
       "      <td>39</td>\n",
       "      <td>543.171743</td>\n",
       "    </tr>\n",
       "    <tr>\n",
       "      <th>2</th>\n",
       "      <td>0.945014</td>\n",
       "      <td>3.779660</td>\n",
       "      <td>638</td>\n",
       "      <td>827</td>\n",
       "      <td>3728.697766</td>\n",
       "    </tr>\n",
       "  </tbody>\n",
       "</table>\n",
       "</div>"
      ],
      "text/plain": [
       "    P_apple  P_orange  Q_apple  Q_orange            Y\n",
       "0  2.075434  1.001738      641       598  1929.392605\n",
       "1  0.966716  6.069813      317        39   543.171743\n",
       "2  0.945014  3.779660      638       827  3728.697766"
      ]
     },
     "execution_count": 7,
     "metadata": {},
     "output_type": "execute_result"
    }
   ],
   "source": [
    "# Let's have a peek-a-boo!\n",
    "df"
   ]
  },
  {
   "cell_type": "markdown",
   "metadata": {
    "slideshow": {
     "slide_type": "subslide"
    }
   },
   "source": [
    "Construct lagged nominal GDP for out two-fruit economy: $Y_{t-1}^{t-1} = \\sum_{i=0}^{N-1}p_{i,t-1}q_{i,t-1}$."
   ]
  },
  {
   "cell_type": "code",
   "execution_count": 8,
   "metadata": {},
   "outputs": [],
   "source": [
    "df[\"Y_lag\"] = Y.shift()"
   ]
  },
  {
   "cell_type": "markdown",
   "metadata": {},
   "source": [
    "Take one more quick peek at the updated dataframe.\n",
    "\n",
    "You should have another new column added with dataframe key called ``Y_lag``. \n",
    "\n",
    "* This is just the data from the ``Y`` (nominal GDP) series lagged by one period.\n",
    "\n",
    "* We did this using the ``shift()`` attribute that is in-built to a ``Pandas`` dataframe to lag a data series by one period."
   ]
  },
  {
   "cell_type": "markdown",
   "metadata": {
    "slideshow": {
     "slide_type": "subslide"
    }
   },
   "source": [
    "Build Laspeyres and Paasche real-GDP indices:\n",
    "\n",
    "* Laspeyres: $\\sum_{i=1}^{N-1}p_{i,t}q_{i,t+1} = Y_{t+1}^{t}$\n",
    "\n",
    "* Paasche: $\\sum_{i=1}^{N-1}p_{i,t+1}q_{i,t} = Y_{t+1}^{t}$\n",
    "\n",
    "for each $t = 0,1,...,T-1$. \n",
    "\n",
    "**Note:** In our example here, we have $T = 3$ and $N=3$.\n",
    "\n",
    "We use the ``shift()`` attribute again. See if you can decipher the formulae in the code below and match it up with the typed formulae above."
   ]
  },
  {
   "cell_type": "code",
   "execution_count": 9,
   "metadata": {
    "scrolled": true,
    "slideshow": {
     "slide_type": "subslide"
    }
   },
   "outputs": [],
   "source": [
    "Y_laspeyres = df[\"P_apple\"].shift()*df[\"Q_apple\"] + df[\"P_orange\"].shift()*df[\"Q_orange\"]\n",
    "Y_paasche = df[\"P_apple\"]*df[\"Q_apple\"].shift() + df[\"P_orange\"]*df[\"Q_orange\"].shift()"
   ]
  },
  {
   "cell_type": "markdown",
   "metadata": {
    "slideshow": {
     "slide_type": "subslide"
    }
   },
   "source": [
    "Update our dataframe ..."
   ]
  },
  {
   "cell_type": "code",
   "execution_count": 10,
   "metadata": {
    "slideshow": {
     "slide_type": "subslide"
    }
   },
   "outputs": [],
   "source": [
    "df[\"Y_laspeyres\"] = Y_laspeyres\n",
    "df[\"Y_paasche\"] = Y_paasche"
   ]
  },
  {
   "cell_type": "markdown",
   "metadata": {
    "slideshow": {
     "slide_type": "subslide"
    }
   },
   "source": [
    "Take one more quick peek at the updated dataframe.\n",
    "\n",
    "You should have new columns added with dataframe key called ``Y_laspeyres`` and ``Y_paasche``:"
   ]
  },
  {
   "cell_type": "code",
   "execution_count": 11,
   "metadata": {
    "scrolled": true,
    "slideshow": {
     "slide_type": "subslide"
    }
   },
   "outputs": [
    {
     "data": {
      "text/html": [
       "<div>\n",
       "<style scoped>\n",
       "    .dataframe tbody tr th:only-of-type {\n",
       "        vertical-align: middle;\n",
       "    }\n",
       "\n",
       "    .dataframe tbody tr th {\n",
       "        vertical-align: top;\n",
       "    }\n",
       "\n",
       "    .dataframe thead th {\n",
       "        text-align: right;\n",
       "    }\n",
       "</style>\n",
       "<table border=\"1\" class=\"dataframe\">\n",
       "  <thead>\n",
       "    <tr style=\"text-align: right;\">\n",
       "      <th></th>\n",
       "      <th>P_apple</th>\n",
       "      <th>P_orange</th>\n",
       "      <th>Q_apple</th>\n",
       "      <th>Q_orange</th>\n",
       "      <th>Y</th>\n",
       "      <th>Y_lag</th>\n",
       "      <th>Y_laspeyres</th>\n",
       "      <th>Y_paasche</th>\n",
       "    </tr>\n",
       "  </thead>\n",
       "  <tbody>\n",
       "    <tr>\n",
       "      <th>0</th>\n",
       "      <td>2.075434</td>\n",
       "      <td>1.001738</td>\n",
       "      <td>641</td>\n",
       "      <td>598</td>\n",
       "      <td>1929.392605</td>\n",
       "      <td>NaN</td>\n",
       "      <td>NaN</td>\n",
       "      <td>NaN</td>\n",
       "    </tr>\n",
       "    <tr>\n",
       "      <th>1</th>\n",
       "      <td>0.966716</td>\n",
       "      <td>6.069813</td>\n",
       "      <td>317</td>\n",
       "      <td>39</td>\n",
       "      <td>543.171743</td>\n",
       "      <td>1929.392605</td>\n",
       "      <td>696.980307</td>\n",
       "      <td>4249.413332</td>\n",
       "    </tr>\n",
       "    <tr>\n",
       "      <th>2</th>\n",
       "      <td>0.945014</td>\n",
       "      <td>3.779660</td>\n",
       "      <td>638</td>\n",
       "      <td>827</td>\n",
       "      <td>3728.697766</td>\n",
       "      <td>543.171743</td>\n",
       "      <td>5636.500393</td>\n",
       "      <td>446.976279</td>\n",
       "    </tr>\n",
       "  </tbody>\n",
       "</table>\n",
       "</div>"
      ],
      "text/plain": [
       "    P_apple  P_orange  Q_apple  Q_orange            Y        Y_lag  \\\n",
       "0  2.075434  1.001738      641       598  1929.392605          NaN   \n",
       "1  0.966716  6.069813      317        39   543.171743  1929.392605   \n",
       "2  0.945014  3.779660      638       827  3728.697766   543.171743   \n",
       "\n",
       "   Y_laspeyres    Y_paasche  \n",
       "0          NaN          NaN  \n",
       "1   696.980307  4249.413332  \n",
       "2  5636.500393   446.976279  "
      ]
     },
     "execution_count": 11,
     "metadata": {},
     "output_type": "execute_result"
    }
   ],
   "source": [
    "df"
   ]
  },
  {
   "cell_type": "markdown",
   "metadata": {
    "slideshow": {
     "slide_type": "subslide"
    }
   },
   "source": [
    "Calculate growth rates of both Laspeyres and Paasche indices:\n",
    "\n",
    "* Laspeyres: $g_{t}^{t} = Y_{t+1}^{t}/Y_{t}^{t}$,\n",
    "* Paasche: $g_{t}^{t+1} = Y_{t+1}^{t+1}/Y_{t}^{t+1}$,"
   ]
  },
  {
   "cell_type": "code",
   "execution_count": 12,
   "metadata": {
    "slideshow": {
     "slide_type": "subslide"
    }
   },
   "outputs": [],
   "source": [
    "g_laspeyres = Y_laspeyres/Y.shift()\n",
    "df[\"g_laspeyres\"]  = g_laspeyres\n",
    "g_paasche = Y/Y_paasche\n",
    "df[\"g_paasche\"]  = g_paasche"
   ]
  },
  {
   "cell_type": "markdown",
   "metadata": {
    "slideshow": {
     "slide_type": "subslide"
    }
   },
   "source": [
    "Now we compute the geometric average of these two growth rates as:\n",
    "\n",
    "$g_{C,t} = \\sqrt{g_{t}^{t} \\times g_{t}^{t+1}}$\n",
    "\n",
    "Then we update the dataframe ``df``."
   ]
  },
  {
   "cell_type": "code",
   "execution_count": 13,
   "metadata": {
    "slideshow": {
     "slide_type": "subslide"
    }
   },
   "outputs": [],
   "source": [
    "g_C = np.sqrt(g_laspeyres*g_paasche)\n",
    "df[\"g_C\"] = g_C"
   ]
  },
  {
   "cell_type": "code",
   "execution_count": 14,
   "metadata": {
    "scrolled": true,
    "slideshow": {
     "slide_type": "subslide"
    }
   },
   "outputs": [
    {
     "data": {
      "text/html": [
       "<div>\n",
       "<style scoped>\n",
       "    .dataframe tbody tr th:only-of-type {\n",
       "        vertical-align: middle;\n",
       "    }\n",
       "\n",
       "    .dataframe tbody tr th {\n",
       "        vertical-align: top;\n",
       "    }\n",
       "\n",
       "    .dataframe thead th {\n",
       "        text-align: right;\n",
       "    }\n",
       "</style>\n",
       "<table border=\"1\" class=\"dataframe\">\n",
       "  <thead>\n",
       "    <tr style=\"text-align: right;\">\n",
       "      <th></th>\n",
       "      <th>P_apple</th>\n",
       "      <th>P_orange</th>\n",
       "      <th>Q_apple</th>\n",
       "      <th>Q_orange</th>\n",
       "      <th>Y</th>\n",
       "      <th>Y_lag</th>\n",
       "      <th>Y_laspeyres</th>\n",
       "      <th>Y_paasche</th>\n",
       "      <th>g_laspeyres</th>\n",
       "      <th>g_paasche</th>\n",
       "      <th>g_C</th>\n",
       "    </tr>\n",
       "  </thead>\n",
       "  <tbody>\n",
       "    <tr>\n",
       "      <th>0</th>\n",
       "      <td>2.075434</td>\n",
       "      <td>1.001738</td>\n",
       "      <td>641</td>\n",
       "      <td>598</td>\n",
       "      <td>1929.392605</td>\n",
       "      <td>NaN</td>\n",
       "      <td>NaN</td>\n",
       "      <td>NaN</td>\n",
       "      <td>NaN</td>\n",
       "      <td>NaN</td>\n",
       "      <td>NaN</td>\n",
       "    </tr>\n",
       "    <tr>\n",
       "      <th>1</th>\n",
       "      <td>0.966716</td>\n",
       "      <td>6.069813</td>\n",
       "      <td>317</td>\n",
       "      <td>39</td>\n",
       "      <td>543.171743</td>\n",
       "      <td>1929.392605</td>\n",
       "      <td>696.980307</td>\n",
       "      <td>4249.413332</td>\n",
       "      <td>0.361243</td>\n",
       "      <td>0.127823</td>\n",
       "      <td>0.214884</td>\n",
       "    </tr>\n",
       "    <tr>\n",
       "      <th>2</th>\n",
       "      <td>0.945014</td>\n",
       "      <td>3.779660</td>\n",
       "      <td>638</td>\n",
       "      <td>827</td>\n",
       "      <td>3728.697766</td>\n",
       "      <td>543.171743</td>\n",
       "      <td>5636.500393</td>\n",
       "      <td>446.976279</td>\n",
       "      <td>10.377013</td>\n",
       "      <td>8.342048</td>\n",
       "      <td>9.304061</td>\n",
       "    </tr>\n",
       "  </tbody>\n",
       "</table>\n",
       "</div>"
      ],
      "text/plain": [
       "    P_apple  P_orange  Q_apple  Q_orange            Y        Y_lag  \\\n",
       "0  2.075434  1.001738      641       598  1929.392605          NaN   \n",
       "1  0.966716  6.069813      317        39   543.171743  1929.392605   \n",
       "2  0.945014  3.779660      638       827  3728.697766   543.171743   \n",
       "\n",
       "   Y_laspeyres    Y_paasche  g_laspeyres  g_paasche       g_C  \n",
       "0          NaN          NaN          NaN        NaN       NaN  \n",
       "1   696.980307  4249.413332     0.361243   0.127823  0.214884  \n",
       "2  5636.500393   446.976279    10.377013   8.342048  9.304061  "
      ]
     },
     "execution_count": 14,
     "metadata": {},
     "output_type": "execute_result"
    }
   ],
   "source": [
    "df"
   ]
  },
  {
   "cell_type": "markdown",
   "metadata": {
    "slideshow": {
     "slide_type": "subslide"
    }
   },
   "source": [
    "**Notes**\n",
    "\n",
    "Did you notice that $g_{C,t}$ is always a number between the two growth rates $g_{t}^{t}$ (i.e., ``g_laspeyres``) and $g_{t}^{t+1}$ (i.e., ``g_paasche``), at each date $t$?\n",
    "\n",
    "This is a result from the geometric average definition."
   ]
  },
  {
   "cell_type": "markdown",
   "metadata": {
    "slideshow": {
     "slide_type": "subslide"
    }
   },
   "source": [
    "## Implementing Step 2"
   ]
  },
  {
   "cell_type": "markdown",
   "metadata": {
    "slideshow": {
     "slide_type": "subslide"
    }
   },
   "source": [
    "Pick an arbitrary date $\\tau$ as the base year, so then the \"chain\" is relative to this base year.\n",
    "\n",
    "* Set $Q_{\\tau} = Y_{\\tau}^{\\tau}$.\n",
    "\n",
    "* For each $t < \\tau$, compute \n",
    "    \\begin{equation}\n",
    "    Q_{t} = \\frac{Q_{t+1}}{g_{C,t}}\n",
    "    \\tag{\\ref{eq: CWI forward}}\n",
    "    \\end{equation}\n",
    "\n",
    "* For each $t \\geq \\tau$, compute \n",
    "    \\begin{equation}\n",
    "    Q_{t+1} = Q_{t} \\times g_{C,t}\n",
    "    \\tag{\\ref{eq: CWI backward}}\n",
    "    \\end{equation}"
   ]
  },
  {
   "cell_type": "code",
   "execution_count": 15,
   "metadata": {
    "scrolled": true,
    "slideshow": {
     "slide_type": "subslide"
    }
   },
   "outputs": [],
   "source": [
    "# Determine length of data series\n",
    "T = df.index.size\n",
    "\n",
    "# Pre-allocate memory for Q series of length T\n",
    "Q = np.empty(T)\n",
    "\n",
    "# base date τ implies  Q(τ) = Y(τ)\n",
    "τ = 1 \n",
    "Q[τ] = df[\"Y\"][τ]\n",
    "\n",
    "# Do the chain-weighted index forward, and backward\n",
    "# relative to base year τ:\n",
    "\n",
    "# Formula (2) for t >= τ (iterate forward)\n",
    "for t in range(τ, T-1, 1):\n",
    "    gC_t = df[\"g_C\"][t+1]\n",
    "    Q[t+1] = Q[t]*gC_t\n",
    "    \n",
    "# Formula (1) for t < τ (iterate backward)\n",
    "for t in range(τ, 0, -1):\n",
    "    Q[t-1] = Q[t]/df[\"g_C\"][t]"
   ]
  },
  {
   "cell_type": "code",
   "execution_count": 16,
   "metadata": {
    "slideshow": {
     "slide_type": "subslide"
    }
   },
   "outputs": [
    {
     "data": {
      "text/html": [
       "<div>\n",
       "<style scoped>\n",
       "    .dataframe tbody tr th:only-of-type {\n",
       "        vertical-align: middle;\n",
       "    }\n",
       "\n",
       "    .dataframe tbody tr th {\n",
       "        vertical-align: top;\n",
       "    }\n",
       "\n",
       "    .dataframe thead th {\n",
       "        text-align: right;\n",
       "    }\n",
       "</style>\n",
       "<table border=\"1\" class=\"dataframe\">\n",
       "  <thead>\n",
       "    <tr style=\"text-align: right;\">\n",
       "      <th></th>\n",
       "      <th>P_apple</th>\n",
       "      <th>P_orange</th>\n",
       "      <th>Q_apple</th>\n",
       "      <th>Q_orange</th>\n",
       "      <th>Y</th>\n",
       "      <th>Y_lag</th>\n",
       "      <th>Y_laspeyres</th>\n",
       "      <th>Y_paasche</th>\n",
       "      <th>g_laspeyres</th>\n",
       "      <th>g_paasche</th>\n",
       "      <th>g_C</th>\n",
       "      <th>Q</th>\n",
       "    </tr>\n",
       "  </thead>\n",
       "  <tbody>\n",
       "    <tr>\n",
       "      <th>0</th>\n",
       "      <td>2.075434</td>\n",
       "      <td>1.001738</td>\n",
       "      <td>641</td>\n",
       "      <td>598</td>\n",
       "      <td>1929.392605</td>\n",
       "      <td>NaN</td>\n",
       "      <td>NaN</td>\n",
       "      <td>NaN</td>\n",
       "      <td>NaN</td>\n",
       "      <td>NaN</td>\n",
       "      <td>NaN</td>\n",
       "      <td>2527.744206</td>\n",
       "    </tr>\n",
       "    <tr>\n",
       "      <th>1</th>\n",
       "      <td>0.966716</td>\n",
       "      <td>6.069813</td>\n",
       "      <td>317</td>\n",
       "      <td>39</td>\n",
       "      <td>543.171743</td>\n",
       "      <td>1929.392605</td>\n",
       "      <td>696.980307</td>\n",
       "      <td>4249.413332</td>\n",
       "      <td>0.361243</td>\n",
       "      <td>0.127823</td>\n",
       "      <td>0.214884</td>\n",
       "      <td>543.171743</td>\n",
       "    </tr>\n",
       "    <tr>\n",
       "      <th>2</th>\n",
       "      <td>0.945014</td>\n",
       "      <td>3.779660</td>\n",
       "      <td>638</td>\n",
       "      <td>827</td>\n",
       "      <td>3728.697766</td>\n",
       "      <td>543.171743</td>\n",
       "      <td>5636.500393</td>\n",
       "      <td>446.976279</td>\n",
       "      <td>10.377013</td>\n",
       "      <td>8.342048</td>\n",
       "      <td>9.304061</td>\n",
       "      <td>5053.702921</td>\n",
       "    </tr>\n",
       "  </tbody>\n",
       "</table>\n",
       "</div>"
      ],
      "text/plain": [
       "    P_apple  P_orange  Q_apple  Q_orange            Y        Y_lag  \\\n",
       "0  2.075434  1.001738      641       598  1929.392605          NaN   \n",
       "1  0.966716  6.069813      317        39   543.171743  1929.392605   \n",
       "2  0.945014  3.779660      638       827  3728.697766   543.171743   \n",
       "\n",
       "   Y_laspeyres    Y_paasche  g_laspeyres  g_paasche       g_C            Q  \n",
       "0          NaN          NaN          NaN        NaN       NaN  2527.744206  \n",
       "1   696.980307  4249.413332     0.361243   0.127823  0.214884   543.171743  \n",
       "2  5636.500393   446.976279    10.377013   8.342048  9.304061  5053.702921  "
      ]
     },
     "execution_count": 16,
     "metadata": {},
     "output_type": "execute_result"
    }
   ],
   "source": [
    "df[\"Q\"] = Q\n",
    "df"
   ]
  },
  {
   "cell_type": "markdown",
   "metadata": {
    "slideshow": {
     "slide_type": "subslide"
    }
   },
   "source": [
    "Let's plot our data series:"
   ]
  },
  {
   "cell_type": "code",
   "execution_count": 17,
   "metadata": {
    "slideshow": {
     "slide_type": "subslide"
    }
   },
   "outputs": [
    {
     "data": {
      "image/png": "[encoded data removed]",
      "text/plain": [
       "<Figure size 432x288 with 1 Axes>"
      ]
     },
     "metadata": {
      "needs_background": "light"
     },
     "output_type": "display_data"
    }
   ],
   "source": [
    "plt.figure()\n",
    "plt.plot(df.index, df[\"Y\"], \":og\", label=r\"$Y$, Nominal GDP\")\n",
    "plt.plot(df.index, df[\"Q\"], \":sm\", label=r\"$Q$, Real GDP (chain-weighted)\")\n",
    "plt.legend()\n",
    "plt.show()"
   ]
  },
  {
   "cell_type": "markdown",
   "metadata": {
    "slideshow": {
     "slide_type": "slide"
    }
   },
   "source": [
    "# Homework (exam-style)"
   ]
  },
  {
   "cell_type": "markdown",
   "metadata": {
    "slideshow": {
     "slide_type": "subslide"
    }
   },
   "source": [
    "\n",
    "    \n",
    "Create an example with $t = 0, 1, ..., T-1$ and $i = 0, 1$. Assume $T = 150$.\n",
    "\n",
    "1. Make up your own numbers for prices and quantities at each date $t$ and product $i$. \n",
    "\n",
    "2. Repeat the task in the last part for your example."
   ]
  },
  {
   "cell_type": "code",
   "execution_count": 18,
   "metadata": {
    "slideshow": {
     "slide_type": "subslide"
    }
   },
   "outputs": [
    {
     "data": {
      "image/jpeg": "[encoded data removed]",
      "text/html": [
       "\n",
       "        <iframe\n",
       "            width=\"400\"\n",
       "            height=\"300\"\n",
       "            src=\"https://www.youtube.com/embed/VbD_kBJc_gI\"\n",
       "            frameborder=\"0\"\n",
       "            allowfullscreen\n",
       "        ></iframe>\n",
       "        "
      ],
      "text/plain": [
       "<IPython.lib.display.YouTubeVideo at 0x7f293e55da58>"
      ]
     },
     "execution_count": 18,
     "metadata": {},
     "output_type": "execute_result"
    }
   ],
   "source": [
    "YouTubeVideo('VbD_kBJc_gI')"
   ]
  },
  {
   "cell_type": "markdown",
   "metadata": {
    "slideshow": {
     "slide_type": "subslide"
    }
   },
   "source": [
    "# Reference\n",
    "\n",
    "* Whelan, K. (2002), A Guide To U.S. Chain Aggregated NIPA Data. *Review of Income and Wealth*, 48: 217-233. [doi:10.1111/1475-4991.00049](https://doi.org/10.1111/1475-4991.00049)\n",
    "\n",
    "* Fisher, I. (1922), [*The Making of Index Numbers: A Study of Their Varieties, Tests, and Reliability*](https://books.google.com.au/books/about/The_Making_of_Index_Numbers.html?id=amAMCByD-JkC&source=kp_book_description&redir_esc=y). \n"
   ]
  }
 ],
 "metadata": {
  "celltoolbar": "Slideshow",
  "kernelspec": {
   "display_name": "Python 3",
   "language": "python",
   "name": "python3"
  },
  "language_info": {
   "codemirror_mode": {
    "name": "ipython",
    "version": 3
   },
   "file_extension": ".py",
   "mimetype": "text/x-python",
   "name": "python",
   "nbconvert_exporter": "python",
   "pygments_lexer": "ipython3",
   "version": "3.6.10"
  },
  "latex_envs": {
   "LaTeX_envs_menu_present": true,
   "autoclose": false,
   "autocomplete": true,
   "bibliofile": "biblio.bib",
   "cite_by": "apalike",
   "current_citInitial": 1,
   "eqLabelWithNumbers": true,
   "eqNumInitial": 1,
   "hotkeys": {
    "equation": "Ctrl-E",
    "itemize": "Ctrl-I"
   },
   "labels_anchors": false,
   "latex_user_defs": false,
   "report_style_numbering": false,
   "user_envs_cfg": false
  },
  "toc": {
   "base_numbering": 1,
   "nav_menu": {},
   "number_sections": true,
   "sideBar": true,
   "skip_h1_title": false,
   "title_cell": "Table of Contents",
   "title_sidebar": "Contents",
   "toc_cell": true,
   "toc_position": {},
   "toc_section_display": true,
   "toc_window_display": true
  }
 },
 "nbformat": 4,
 "nbformat_minor": 4
}
