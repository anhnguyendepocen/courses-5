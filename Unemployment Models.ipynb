{
 "cells": [
  {
   "cell_type": "markdown",
   "metadata": {
    "slideshow": {
     "slide_type": "slide"
    }
   },
   "source": [
    "# Search, Matching and Unemployment"
   ]
  },
  {
   "cell_type": "markdown",
   "metadata": {
    "slideshow": {
     "slide_type": "slide"
    }
   },
   "source": [
    "by [MachinaFantasma](https://phantomachine.github.io/) | [Twitter](https://twitter.com/MachinaFantasma)"
   ]
  },
  {
   "cell_type": "markdown",
   "metadata": {
    "slideshow": {
     "slide_type": "slide"
    },
    "toc": true
   },
   "source": [
    "<h1>Table of Contents<span class=\"tocSkip\"></span></h1>\n",
    "<div class=\"toc\"><ul class=\"toc-item\"><li><span><a href=\"#Search,-Matching-and-Unemployment\" data-toc-modified-id=\"Search,-Matching-and-Unemployment-1\"><span class=\"toc-item-num\">1&nbsp;&nbsp;</span>Search, Matching and Unemployment</a></span></li><li><span><a href=\"#Key-learning-points\" data-toc-modified-id=\"Key-learning-points-2\"><span class=\"toc-item-num\">2&nbsp;&nbsp;</span>Key learning points</a></span></li><li><span><a href=\"#Key-labor-market-variables\" data-toc-modified-id=\"Key-labor-market-variables-3\"><span class=\"toc-item-num\">3&nbsp;&nbsp;</span>Key labor market variables</a></span></li><li><span><a href=\"#Key-Labor-Market-Observations\" data-toc-modified-id=\"Key-Labor-Market-Observations-4\"><span class=\"toc-item-num\">4&nbsp;&nbsp;</span>Key Labor Market Observations</a></span><ul class=\"toc-item\"><li><span><a href=\"#Fact-1\" data-toc-modified-id=\"Fact-1-4.1\"><span class=\"toc-item-num\">4.1&nbsp;&nbsp;</span>Fact 1</a></span></li><li><span><a href=\"#Fact-2\" data-toc-modified-id=\"Fact-2-4.2\"><span class=\"toc-item-num\">4.2&nbsp;&nbsp;</span>Fact 2</a></span></li></ul></li><li><span><a href=\"#Rationalizing-facts:-A-two-sided-search-model\" data-toc-modified-id=\"Rationalizing-facts:-A-two-sided-search-model-5\"><span class=\"toc-item-num\">5&nbsp;&nbsp;</span>Rationalizing facts: A two-sided search model</a></span><ul class=\"toc-item\"><li><span><a href=\"#The-2010-&quot;Nobel-Prize-in-Economics&quot;\" data-toc-modified-id=\"The-2010-&quot;Nobel-Prize-in-Economics&quot;-5.1\"><span class=\"toc-item-num\">5.1&nbsp;&nbsp;</span>The 2010 \"Nobel Prize in Economics\"</a></span></li><li><span><a href=\"#Numerical-example-of-the-DMP-model\" data-toc-modified-id=\"Numerical-example-of-the-DMP-model-5.2\"><span class=\"toc-item-num\">5.2&nbsp;&nbsp;</span>Numerical example of the DMP model</a></span></li><li><span><a href=\"#Consumers\" data-toc-modified-id=\"Consumers-5.3\"><span class=\"toc-item-num\">5.3&nbsp;&nbsp;</span>Consumers</a></span></li><li><span><a href=\"#Firms\" data-toc-modified-id=\"Firms-5.4\"><span class=\"toc-item-num\">5.4&nbsp;&nbsp;</span>Firms</a></span></li><li><span><a href=\"#Matching\" data-toc-modified-id=\"Matching-5.5\"><span class=\"toc-item-num\">5.5&nbsp;&nbsp;</span>Matching</a></span><ul class=\"toc-item\"><li><span><a href=\"#Matching-function-model\" data-toc-modified-id=\"Matching-function-model-5.5.1\"><span class=\"toc-item-num\">5.5.1&nbsp;&nbsp;</span>Matching function model</a></span></li></ul></li><li><span><a href=\"#Nash-bargaining-over-wage\" data-toc-modified-id=\"Nash-bargaining-over-wage-5.6\"><span class=\"toc-item-num\">5.6&nbsp;&nbsp;</span>Nash bargaining over wage</a></span></li><li><span><a href=\"#Search-and-matching-equilibrium\" data-toc-modified-id=\"Search-and-matching-equilibrium-5.7\"><span class=\"toc-item-num\">5.7&nbsp;&nbsp;</span>Search and matching equilibrium</a></span><ul class=\"toc-item\"><li><span><a href=\"#Supply-side\" data-toc-modified-id=\"Supply-side-5.7.1\"><span class=\"toc-item-num\">5.7.1&nbsp;&nbsp;</span>Supply side</a></span></li><li><span><a href=\"#Demand-side\" data-toc-modified-id=\"Demand-side-5.7.2\"><span class=\"toc-item-num\">5.7.2&nbsp;&nbsp;</span>Demand side</a></span></li></ul></li><li><span><a href=\"#Working-out-equilibrium\" data-toc-modified-id=\"Working-out-equilibrium-5.8\"><span class=\"toc-item-num\">5.8&nbsp;&nbsp;</span>Working out equilibrium</a></span><ul class=\"toc-item\"><li><span><a href=\"#Other-variables-of-interest\" data-toc-modified-id=\"Other-variables-of-interest-5.8.1\"><span class=\"toc-item-num\">5.8.1&nbsp;&nbsp;</span>Other variables of interest</a></span></li></ul></li></ul></li><li><span><a href=\"#Exercises\" data-toc-modified-id=\"Exercises-6\"><span class=\"toc-item-num\">6&nbsp;&nbsp;</span>Exercises</a></span><ul class=\"toc-item\"><li><span><a href=\"#Exercise-0\" data-toc-modified-id=\"Exercise-0-6.1\"><span class=\"toc-item-num\">6.1&nbsp;&nbsp;</span>Exercise 0</a></span></li><li><span><a href=\"#Exercise-1\" data-toc-modified-id=\"Exercise-1-6.2\"><span class=\"toc-item-num\">6.2&nbsp;&nbsp;</span>Exercise 1</a></span></li><li><span><a href=\"#Exercise-2\" data-toc-modified-id=\"Exercise-2-6.3\"><span class=\"toc-item-num\">6.3&nbsp;&nbsp;</span>Exercise 2</a></span></li><li><span><a href=\"#Exercise-3\" data-toc-modified-id=\"Exercise-3-6.4\"><span class=\"toc-item-num\">6.4&nbsp;&nbsp;</span>Exercise 3</a></span></li></ul></li><li><span><a href=\"#Accounting-for-business-cycle-statistics\" data-toc-modified-id=\"Accounting-for-business-cycle-statistics-7\"><span class=\"toc-item-num\">7&nbsp;&nbsp;</span>Accounting for business-cycle statistics</a></span></li><li><span><a href=\"#Readings\" data-toc-modified-id=\"Readings-8\"><span class=\"toc-item-num\">8&nbsp;&nbsp;</span>Readings</a></span></li></ul></div>"
   ]
  },
  {
   "cell_type": "code",
   "execution_count": 1,
   "metadata": {
    "slideshow": {
     "slide_type": "skip"
    }
   },
   "outputs": [],
   "source": [
    "%matplotlib inline"
   ]
  },
  {
   "cell_type": "markdown",
   "metadata": {
    "slideshow": {
     "slide_type": "subslide"
    }
   },
   "source": [
    "# Key learning points\n",
    "\n",
    "1. List the key labor market facts concerning the unemployment rate, the participation rate, and the employment/population ratio. \n",
    "\n",
    "2. Describe the Beveridge curve, and explain its importance. \n",
    "\n",
    "3. In the one-sided search model, explain how the reservation wage is determined.\n",
    "\n",
    "4. Show how the one-sided search model determines the unemployment rate. \n",
    "\n",
    "5. Use the one-sided search model to determine the effects of changes to wage and unemployment."
   ]
  },
  {
   "cell_type": "markdown",
   "metadata": {
    "slideshow": {
     "slide_type": "subslide"
    }
   },
   "source": [
    "6. Construct an equilibrium in the two-sided search model.\n",
    "\n",
    "7. Use the two-sided search model to explain how shocks to the labor market change labor force participation, unemployment, vacancies, aggregate output, and labor market tightness.\n",
    "\n",
    "8. Replicate US business cycle statistics on labor market using a well-known dynamic and stochastic version of the two-sided search model."
   ]
  },
  {
   "cell_type": "markdown",
   "metadata": {
    "slideshow": {
     "slide_type": "slide"
    }
   },
   "source": [
    "# Key labor market variables"
   ]
  },
  {
   "cell_type": "markdown",
   "metadata": {
    "slideshow": {
     "slide_type": "subslide"
    }
   },
   "source": [
    "|    Mnemonic     | Description                  |\n",
    "|:----------------|:-----------------------------|\n",
    "|    $N$          | Working age population       |\n",
    "|    $Q$          | Labor force                  |\n",
    "|    $U$          | Unemployed                   |\n",
    "|    $U/Q$        | Unemployoment rate           |\n",
    "|    $Q/N$        | Participation rate           |\n",
    "|    $(Q-U)/N$    | Employment/Population ratio  |"
   ]
  },
  {
   "cell_type": "markdown",
   "metadata": {
    "slideshow": {
     "slide_type": "slide"
    }
   },
   "source": [
    "# Key Labor Market Observations"
   ]
  },
  {
   "cell_type": "markdown",
   "metadata": {
    "slideshow": {
     "slide_type": "subslide"
    }
   },
   "source": [
    "We'll summarize the co-movement (correlation) facts shown earlier."
   ]
  },
  {
   "cell_type": "markdown",
   "metadata": {
    "slideshow": {
     "slide_type": "subslide"
    }
   },
   "source": [
    "## Fact 1\n",
    "\n",
    "1. $u$ and $v$ are negatively correlated;\n",
    "\n",
    "2. $u$ and $p$ are negatively correlated; and\n",
    "\n",
    "3. $\\theta$ and $p$ are positively correlated\n",
    "\n",
    "over the business cycle."
   ]
  },
  {
   "cell_type": "markdown",
   "metadata": {
    "slideshow": {
     "slide_type": "subslide"
    }
   },
   "source": [
    "These imply that:\n",
    "\n",
    "4. $u$ and $\\theta$ are negatively correlated.\n",
    "\n",
    "5. $v$ and $p$ are positively correlated.\n",
    "\n",
    "6. $v$ and $\\theta$ are positively correlated."
   ]
  },
  {
   "cell_type": "markdown",
   "metadata": {
    "slideshow": {
     "slide_type": "subslide"
    }
   },
   "source": [
    "## Fact 2\n",
    "\n",
    "The U.S. Beveridge curve (Fact 1.1) appears to have shifted up since the Great Recession (2008)."
   ]
  },
  {
   "cell_type": "markdown",
   "metadata": {
    "slideshow": {
     "slide_type": "slide"
    }
   },
   "source": [
    "# Rationalizing facts: A two-sided search model\n",
    "\n",
    "A simplified version of the (Diamond)-Mortensen-Pissarides model of frictional labor markets.\n",
    "\n",
    "We'll refer to this as the simplified DMP model."
   ]
  },
  {
   "cell_type": "markdown",
   "metadata": {
    "slideshow": {
     "slide_type": "subslide"
    }
   },
   "source": [
    "## The 2010 \"Nobel Prize in Economics\"\n",
    "\n",
    "In 2010, the Royal Swedish Academy of Sciences awarded the *Sveriges Riksbank Prize in Economic Sciences in Memory of Alfred Nobel* to Peter A. Diamond, Dale T. Mortensen and Christopher A. Pissarides \"*for their analysis of markets with search frictions*\".\n",
    "\n",
    "[Read more here](https://www.nobelprize.org/prizes/economic-sciences/2010/illustrated-information/)"
   ]
  },
  {
   "cell_type": "markdown",
   "metadata": {
    "slideshow": {
     "slide_type": "subslide"
    }
   },
   "source": [
    "## Numerical example of the DMP model"
   ]
  },
  {
   "cell_type": "markdown",
   "metadata": {
    "slideshow": {
     "slide_type": "skip"
    }
   },
   "source": [
    "Let's ``def``ine the core objects describing the model environment within a Python ``class`` called ``baby_DMP``:"
   ]
  },
  {
   "cell_type": "code",
   "execution_count": 2,
   "metadata": {
    "slideshow": {
     "slide_type": "subslide"
    }
   },
   "outputs": [],
   "source": [
    "import numpy as np\n",
    "import matplotlib.pyplot as plt\n",
    "from matplotlib.pyplot import subplots\n",
    "import pandas as pd\n",
    "\n",
    "class baby_DMP:\n",
    "    \n",
    "    def __init__(self, \n",
    "                   α=0.25, \n",
    "                   e=1.0, \n",
    "                   b = 0.099, \n",
    "                   z=1.0, \n",
    "                   k=0.025, \n",
    "                   a=0.16,\n",
    "                   iPa=1.0,\n",
    "                   iPb=30.0,\n",
    "                   Npoints=30,\n",
    "                  ):\n",
    "        \n",
    "        # Store parameters in dictionary\n",
    "        self.parameters_dict = {\n",
    "                \"Unemployment Share in Matches\": [α, r\"$\\alpha$\"],\n",
    "                \"Matching Efficiency\": [e, \"$e$\"],\n",
    "                \"Unemployment Benefit\": [b, \"$b$\"],\n",
    "                \"Output\": [z, \"$z$\"],\n",
    "                \"Vacancy Posting Cost\": [k, \"$k$\"],\n",
    "                \"Worker Bargaining Power\": [a, \"$a$\"],\n",
    "                \"Supply P(Q) slope (a)\": [iPa, \"$a_{P}$\"],\n",
    "                \"Supply P(Q) exponential weight (b)\": [iPb, \"$b_{P}$\"],\n",
    "             }\n",
    "        \n",
    "        pdf = pd.DataFrame.from_dict(self.parameters_dict, orient=\"index\")\n",
    "        pdf.columns = [\"Value\", \"Symbol\"]\n",
    "        self.parameters = pdf\n",
    "        \n",
    "        # Also store separately for ease of use\n",
    "        self.α = α # Cobb-Douglas M function (Q's share)\n",
    "        self.e = e # Match efficiency\n",
    "        self.b = b # UI benefit\n",
    "        self.z = z # Output of firm\n",
    "        self.k = k # Resource cost of vacancy posting\n",
    "        self.a = a # Worker bargaining power   \n",
    "        self.iPa = iPa\n",
    "        self.iPb = iPb\n",
    "        self.Npoints = Npoints\n",
    "        \n",
    "    def get_θgrid(self, θ_min=1e-6, θ_max=3.0):\n",
    "        \"\"\"Generate equally-spaced grid of market-tightness\n",
    "        (θ) values.\"\"\"\n",
    "        return np.linspace(θ_min, θ_max, self.Npoints)\n",
    "        \n",
    "\n",
    "    def M(self, Q, A):\n",
    "        \"\"\"Matching function (Cobb-Douglas example). Returns\n",
    "        Number of matched worker-firm pairs given size of \n",
    "        labor force (searcher population, Q) and vacancies \n",
    "        advertized (A).\"\"\"\n",
    "        α = self.α\n",
    "        e = self.e\n",
    "        m = (Q*α)*A**(1.0-α)\n",
    "        return e*m\n",
    "\n",
    "    def p_c(self, θ):\n",
    "        \"\"\"Probability of a match for a consumer/worker\n",
    "        written as a function of market tightness j:=:θ=Q/A.\n",
    "        This assumes matching function m(Q, A) is a constant\n",
    "        returns to scale function.\"\"\"\n",
    "        # Cobb-Douglas M's pc >= 0\n",
    "        pc = self.M(1.0, θ) \n",
    "        # Cobb-Douglas pc can be > 1, but pc must be probability\n",
    "        return np.minimum(pc, 1.0)\n",
    "\n",
    "    def p_f(self, θ):\n",
    "        \"\"\"Probability of a match for a firm written \n",
    "        as a function of market tightness j:=:θ=Q/A.\n",
    "        This assumes matching function m(Q, A) is a \n",
    "        constant returns to scale function.\"\"\"\n",
    "        pf = self.M(1.0/θ, 1.0)\n",
    "        return np.minimum(pf, 1.0)\n",
    "\n",
    "    def w(self):\n",
    "        \"\"\"Nash-bargaining wage-setting solution\"\"\"\n",
    "        return self.a*self.z + (1.0 - self.a)*self.b\n",
    "    \n",
    "    def ExpPayoffSearch(self, θ):\n",
    "        \"\"\"Expected payoff function for consumer\n",
    "        search, given market tightness θ and a wage outcome\n",
    "        from Nash Bargaining w. The output of this can be \n",
    "        interpreted as the 'market price' for search.\"\"\"\n",
    "        # Get match probability\n",
    "        pc = self.p_c(θ)\n",
    "        # Get equilibrium Nash-bargaining w\n",
    "        wsol = self.w()\n",
    "        # Return Expected Payoff from Search\n",
    "        return pc*wsol + (1.0-pc)*self.b\n",
    "    \n",
    "    def P(self, θ):\n",
    "        \"\"\"Implied Figure 6.20(a), graph (θ, Q==P(Q, θ))\"\"\"\n",
    "        EvalSearch = self.ExpPayoffSearch(θ)\n",
    "        Q = self.iPa*(np.exp(self.iPb*EvalSearch) - 1.0)\n",
    "        return Q\n",
    "\n",
    "    def plot2D(self, x, y, x_label=\" \", y_label=\" \", title=\" \"):\n",
    "        \"\"\"Wrapper function for simple 2D graph (x,y).\"\"\"\n",
    "        plt.figure()\n",
    "        plt.plot(x, y)\n",
    "        plt.xlabel(x_label)\n",
    "        plt.ylabel(y_label)\n",
    "        plt.title(title)\n",
    "        plt.show()"
   ]
  },
  {
   "cell_type": "markdown",
   "metadata": {
    "slideshow": {
     "slide_type": "subslide"
    }
   },
   "source": [
    "## Consumers\n",
    "\n",
    "There is a total measure of $N$ consumers:\n",
    "\n",
    "* $Q$ measure search for market (formal) work $\\equiv$ labor force.\n",
    "\n",
    "* $N-Q$ measure do informal work (*home production*) $\\equiv$ working-age population not in labor force."
   ]
  },
  {
   "cell_type": "markdown",
   "metadata": {
    "slideshow": {
     "slide_type": "subslide"
    }
   },
   "source": [
    "Let $P(Q)$ be the *expected payoff* to job search for market work *such that it would induced a measure $Q$ of consumers to search*.\n",
    "\n",
    "This will *implicitly* defined a supply curve for formal work seekers."
   ]
  },
  {
   "cell_type": "markdown",
   "metadata": {
    "slideshow": {
     "slide_type": "subslide"
    }
   },
   "source": [
    "## Firms\n",
    "\n",
    "To produce, a firm must post a vacancy (job ad). \n",
    "\n",
    "Posting a vacancy is costly.\n",
    "\n",
    "* It cost $k$ units of consumption good to post one vacancy.\n",
    "\n",
    "* Suppose each firm posts only one vacancy at a time.\n",
    "\n",
    "* There is measure $A$ of firms who post vacancies (*active firms*).\n",
    "\n"
   ]
  },
  {
   "cell_type": "markdown",
   "metadata": {
    "slideshow": {
     "slide_type": "subslide"
    }
   },
   "source": [
    "## Matching\n",
    "\n",
    "At the start of each period:\n",
    "\n",
    "* $Q$ consumers search for formal work.\n",
    "\n",
    "* $A$ firms post vacancies.\n",
    "\n",
    "To produce, it takes two to tango. \n",
    "\n",
    "But *making a match is costly and time consuming*."
   ]
  },
  {
   "cell_type": "markdown",
   "metadata": {
    "slideshow": {
     "slide_type": "subslide"
    }
   },
   "source": [
    "We will pack away details of how possibly-inefficient matching equilibrium comes about.\n",
    "\n",
    "Instead, we capture this costly matching process by a *matching function*.\n",
    "\n",
    "Kind of the same modeling device as a neoclassical production function!\n",
    "\n"
   ]
  },
  {
   "cell_type": "markdown",
   "metadata": {
    "slideshow": {
     "slide_type": "subslide"
    }
   },
   "source": [
    "### Matching function model\n",
    "\\begin{equation}\n",
    "M = e \\times m(Q, A)\n",
    "\\label{eq: matching function - general}\n",
    "\\end{equation}\n",
    "\n",
    "* $M$ - number of successful matches\n",
    "\n",
    "* $e$ - matching efficiency (parameter)\n",
    "\n",
    "* $Q$ - measure of searchers (also, labor force)\n",
    "\n",
    "* $A$ - measure of vacancies posted"
   ]
  },
  {
   "cell_type": "markdown",
   "metadata": {
    "slideshow": {
     "slide_type": "subslide"
    }
   },
   "source": [
    "Assume $m(\\cdot, \\cdot)$ is such that:\n",
    "\n",
    "1. it is a constant returns to scale (homogeneous of degree one) function;\n",
    "\n",
    "2. it takes two to tango: $m(0,A) = m(Q,0) = 0$;\n",
    "\n",
    "3. the number of matches (given $e$) increases when either $Q$ or $A$ increases; and\n",
    "\n",
    "4. (given $e$) marginal match diminishes when either $Q$ or $A$ increases."
   ]
  },
  {
   "cell_type": "markdown",
   "metadata": {
    "slideshow": {
     "slide_type": "subslide"
    }
   },
   "source": [
    "## Nash bargaining over wage"
   ]
  },
  {
   "cell_type": "markdown",
   "metadata": {
    "slideshow": {
     "slide_type": "subslide"
    }
   },
   "source": [
    "We'll need to model explicit how \"price\" ($w$) is determined.\n",
    "\n",
    "Unlike competitive-equilibrium models, where prices arise out of the ether to equate demand and supply ...\n",
    "\n",
    "In decentralized, search and matching, the pricing process has to be explicitly modelled!\n",
    "\n",
    "A convenient and microfounded way is to use [John Nash's famous axiomatic bargaining representation](https://en.wikipedia.org/wiki/Bargaining_problem#Nash_bargaining_solution)."
   ]
  },
  {
   "cell_type": "markdown",
   "metadata": {
    "slideshow": {
     "slide_type": "subslide"
    }
   },
   "source": [
    "A firm that has a match produces output $z$ but has to pay worker some wage $w$.\n",
    "\n",
    "* Firm's match surplus is $z - w$.\n",
    "\n",
    "A worker with a match gets paid $w$ but if she doesn't work, get $b$ from the government (outside option value).\n",
    "\n",
    "* Her match surplus is $w - b$.\n",
    "\n",
    "So total surplus is $z-b$."
   ]
  },
  {
   "cell_type": "markdown",
   "metadata": {
    "slideshow": {
     "slide_type": "subslide"
    }
   },
   "source": [
    "**How to split the pie (or 파전)?**\n",
    "\n",
    "The (generalized) Nash bargaining solution says that the firm and worker will each get some constant share of the total surplus.\n",
    "\n",
    "Let $0< a<1$ denote the worker's bargaining power (share of total surplus).\n",
    "\n",
    "Worker and firm would agree to a contract that stipulates making the worker surplus a fraction $a$ of total surplus.\n",
    "\n"
   ]
  },
  {
   "cell_type": "markdown",
   "metadata": {
    "slideshow": {
     "slide_type": "subslide"
    }
   },
   "source": [
    "This gives us the *Nash bargaining solution* for our *wage determination problem*:\n",
    "\\begin{equation}\n",
    "w = az + (1-a)b.\n",
    "\\label{eq: Nash WS}\n",
    "\\end{equation}\n",
    "\n",
    "Note:\n",
    "    \n",
    "* If firm has all the power, worker gets paid the least amount equal to UI insurance value $b$.\n",
    "\n",
    "* If worker has all the power, worker captures firm's entire productivity $z$."
   ]
  },
  {
   "cell_type": "markdown",
   "metadata": {
    "slideshow": {
     "slide_type": "slide"
    }
   },
   "source": [
    "## Search and matching equilibrium\n",
    "\n",
    "* Non-Walrasian or non-competitive-equilibrium notion of \"equilibrium\"\n",
    "\n",
    "* Trades are not centralized\n",
    "\n",
    "* Exchange can be inefficient and time-consuming"
   ]
  },
  {
   "cell_type": "code",
   "execution_count": 3,
   "metadata": {
    "slideshow": {
     "slide_type": "subslide"
    }
   },
   "outputs": [],
   "source": [
    "# Create an instance of DMP model at default settings\n",
    "model = baby_DMP()"
   ]
  },
  {
   "cell_type": "code",
   "execution_count": 4,
   "metadata": {
    "scrolled": true
   },
   "outputs": [
    {
     "data": {
      "text/html": [
       "<div>\n",
       "<style scoped>\n",
       "    .dataframe tbody tr th:only-of-type {\n",
       "        vertical-align: middle;\n",
       "    }\n",
       "\n",
       "    .dataframe tbody tr th {\n",
       "        vertical-align: top;\n",
       "    }\n",
       "\n",
       "    .dataframe thead th {\n",
       "        text-align: right;\n",
       "    }\n",
       "</style>\n",
       "<table border=\"1\" class=\"dataframe\">\n",
       "  <thead>\n",
       "    <tr style=\"text-align: right;\">\n",
       "      <th></th>\n",
       "      <th>Value</th>\n",
       "      <th>Symbol</th>\n",
       "    </tr>\n",
       "  </thead>\n",
       "  <tbody>\n",
       "    <tr>\n",
       "      <th>Unemployment Share in Matches</th>\n",
       "      <td>0.250</td>\n",
       "      <td>$\\alpha$</td>\n",
       "    </tr>\n",
       "    <tr>\n",
       "      <th>Matching Efficiency</th>\n",
       "      <td>1.000</td>\n",
       "      <td>$e$</td>\n",
       "    </tr>\n",
       "    <tr>\n",
       "      <th>Unemployment Benefit</th>\n",
       "      <td>0.099</td>\n",
       "      <td>$b$</td>\n",
       "    </tr>\n",
       "    <tr>\n",
       "      <th>Output</th>\n",
       "      <td>1.000</td>\n",
       "      <td>$z$</td>\n",
       "    </tr>\n",
       "    <tr>\n",
       "      <th>Vacancy Posting Cost</th>\n",
       "      <td>0.025</td>\n",
       "      <td>$k$</td>\n",
       "    </tr>\n",
       "    <tr>\n",
       "      <th>Worker Bargaining Power</th>\n",
       "      <td>0.160</td>\n",
       "      <td>$a$</td>\n",
       "    </tr>\n",
       "    <tr>\n",
       "      <th>Supply P(Q) slope (a)</th>\n",
       "      <td>1.000</td>\n",
       "      <td>$a_{P}$</td>\n",
       "    </tr>\n",
       "    <tr>\n",
       "      <th>Supply P(Q) exponential weight (b)</th>\n",
       "      <td>30.000</td>\n",
       "      <td>$b_{P}$</td>\n",
       "    </tr>\n",
       "  </tbody>\n",
       "</table>\n",
       "</div>"
      ],
      "text/plain": [
       "                                     Value    Symbol\n",
       "Unemployment Share in Matches        0.250  $\\alpha$\n",
       "Matching Efficiency                  1.000       $e$\n",
       "Unemployment Benefit                 0.099       $b$\n",
       "Output                               1.000       $z$\n",
       "Vacancy Posting Cost                 0.025       $k$\n",
       "Worker Bargaining Power              0.160       $a$\n",
       "Supply P(Q) slope (a)                1.000   $a_{P}$\n",
       "Supply P(Q) exponential weight (b)  30.000   $b_{P}$"
      ]
     },
     "execution_count": 4,
     "metadata": {},
     "output_type": "execute_result"
    }
   ],
   "source": [
    "# This shows the current parameter settings\n",
    "model.parameters"
   ]
  },
  {
   "cell_type": "markdown",
   "metadata": {
    "slideshow": {
     "slide_type": "subslide"
    }
   },
   "source": [
    "### Supply side\n",
    "\n",
    "**(Implicit) formal-vs-informal work tradeoff**\n",
    "\n",
    "We make an assumption that (inverse) labor-force supply $P(Q)$ is increasing:\n",
    "    \n",
    "* Home production is different for different consumers.\n",
    "\n",
    "* People trade-off home production with market search for formal work.\n",
    "\n",
    "* So more look for formal work ($Q$) if the expected value of search goes up.\n",
    "\n",
    "Also, assume that $Q$ increases at a sufficient high increasing rate with the expected value of search.\n",
    "\n"
   ]
  },
  {
   "cell_type": "code",
   "execution_count": 5,
   "metadata": {
    "scrolled": false,
    "slideshow": {
     "slide_type": "subslide"
    }
   },
   "outputs": [
    {
     "data": {
      "image/png": "[encoded data removed]",
      "text/plain": [
       "<Figure size 432x288 with 1 Axes>"
      ]
     },
     "metadata": {
      "needs_background": "light"
     },
     "output_type": "display_data"
    }
   ],
   "source": [
    "# Reduced-form model of P(Q) = EV Search\n",
    "θV = model.get_θgrid()\n",
    "EV = model.ExpPayoffSearch(θV)\n",
    "PV = model.P(θV)\n",
    "\n",
    "model.plot2D(x=EV, y=PV, \n",
    "       y_label=r\"Labor Force, $Q$\",\n",
    "       x_label=r\"EV search\",\n",
    "       title=r\"Supply curve $P^{-1}(\\cdot)$\")"
   ]
  },
  {
   "cell_type": "markdown",
   "metadata": {
    "slideshow": {
     "slide_type": "subslide"
    }
   },
   "source": [
    "**Remarks**\n",
    "\n",
    "Contrast with Williamson's Figure 6.17 (and a long tradition of plotting inverse demands/supplies).\n",
    "\n",
    "We plotted the actual supply of $Q$ as a function of a pseudo-\"price\" (i.e., consumer's expected value from search)."
   ]
  },
  {
   "cell_type": "markdown",
   "metadata": {
    "slideshow": {
     "slide_type": "subslide"
    }
   },
   "source": [
    "Given market tightness $\\theta := A/Q$, and some wage outcome $w$, the *expected value of search* for consumers is\n",
    "\\begin{equation}\n",
    "p_{c}(\\theta)w + [1.0-p_{c}(\\theta)]b.\n",
    "\\label{eq: EV search}\n",
    "\\end{equation}\n",
    "\n",
    "A weighted average of (linear utility) of wage $w$, outside option (UI benefit). Probability weights depend on market tightness $\\theta$."
   ]
  },
  {
   "cell_type": "code",
   "execution_count": 6,
   "metadata": {
    "scrolled": true,
    "slideshow": {
     "slide_type": "subslide"
    }
   },
   "outputs": [
    {
     "data": {
      "image/png": "[encoded data removed]",
      "text/plain": [
       "<Figure size 432x288 with 1 Axes>"
      ]
     },
     "metadata": {
      "needs_background": "light"
     },
     "output_type": "display_data"
    }
   ],
   "source": [
    "# Cobb-Douglas matching example ...\n",
    "model.plot2D(x=θV, y=EV, \n",
    "       x_label=r\"Market Tightness, $\\theta$\",\n",
    "       y_label=r\"EV search\")"
   ]
  },
  {
   "cell_type": "markdown",
   "metadata": {
    "slideshow": {
     "slide_type": "subslide"
    }
   },
   "source": [
    "Combine the last two graphs to infer the following relation between $Q$ and $\\theta$ (given *some* wage outcome $w$):"
   ]
  },
  {
   "cell_type": "code",
   "execution_count": 7,
   "metadata": {
    "slideshow": {
     "slide_type": "subslide"
    }
   },
   "outputs": [
    {
     "data": {
      "image/png": "[encoded data removed]",
      "text/plain": [
       "<Figure size 432x288 with 1 Axes>"
      ]
     },
     "metadata": {
      "needs_background": "light"
     },
     "output_type": "display_data"
    }
   ],
   "source": [
    "model.plot2D(x=θV, y=PV, \n",
    "       x_label=r\"Market Tightness, $\\theta$\",\n",
    "       y_label=r\"Labor Force, $Q$\")"
   ]
  },
  {
   "cell_type": "markdown",
   "metadata": {
    "slideshow": {
     "slide_type": "subslide"
    }
   },
   "source": [
    "**Price is not the only market signal to suppliers!**\n",
    "\n",
    "Unlike *competitive equilibrium* models of markets, \"supply\" depends not just on price (i.e., $w$).\n",
    "\n",
    "It also depends on\n",
    "\n",
    "* outside option to work, here UI benefit $b$ (since consumers worry about failed matches)\n",
    "\n",
    "* labor market tightness $\\theta$ (which affects how likely they get to match)"
   ]
  },
  {
   "cell_type": "markdown",
   "metadata": {
    "slideshow": {
     "slide_type": "subslide"
    }
   },
   "source": [
    "### Demand side"
   ]
  },
  {
   "cell_type": "markdown",
   "metadata": {
    "slideshow": {
     "slide_type": "subslide"
    }
   },
   "source": [
    "For some given wage outcome $w$, a firm's cost of posting a vacancy is $k$.\n",
    "\n",
    "A firm's expected profit from a successful match (with resulting production) is: $p_{f}(\\theta)(z-w) + (1-p_{f}(\\theta))\\cdot 0$.\n",
    "\n",
    "So net expected profit is $p_{f}(\\theta)(z-w) - k$."
   ]
  },
  {
   "cell_type": "code",
   "execution_count": 8,
   "metadata": {
    "scrolled": false,
    "slideshow": {
     "slide_type": "subslide"
    }
   },
   "outputs": [
    {
     "data": {
      "image/png": "[encoded data removed]",
      "text/plain": [
       "<Figure size 432x288 with 1 Axes>"
      ]
     },
     "metadata": {
      "needs_background": "light"
     },
     "output_type": "display_data"
    }
   ],
   "source": [
    "# Graph of firm's probability of finding worker\n",
    "pfV = model.p_f(θV)\n",
    "model.plot2D(x=θV, y=pfV, \n",
    "       x_label=r\"Market Tightness, $\\theta$\",\n",
    "       y_label=r\"Firm's probability of a match, $p_{f}(\\theta)$\")"
   ]
  },
  {
   "cell_type": "markdown",
   "metadata": {
    "slideshow": {
     "slide_type": "subslide"
    }
   },
   "source": [
    "Free entry to vacancy posting means that firms will keep posting vacancies until the net payoff is zero.\n",
    "\n",
    "Given $w$, we can thus solve for $\\theta$ through\n",
    "\\begin{equation}\n",
    "p_{f}(\\theta) = \\frac{k}{z-w}\n",
    "\\label{eq: vacancy free entry}\n",
    "\\end{equation}\n",
    "\n",
    "The LHS is a continuous, decreasing function of $\\theta$. The RHS is constant w.r.t. $\\theta$. There is a unique solution $\\theta^{\\star}$.\n",
    "\n",
    "Note: Given $Q$, we can solve for firms choice of $A = Q/\\theta$."
   ]
  },
  {
   "cell_type": "markdown",
   "metadata": {
    "slideshow": {
     "slide_type": "subslide"
    }
   },
   "source": [
    "**Price is not the only market signal to demanders!**\n",
    "\n",
    "Unlike *competitive equilibrium* models of markets, \"demand\" depends not just on price (i.e., $w$).\n",
    "\n",
    "It also depends on\n",
    "\n",
    "* cost on vacancy posting $k$, and,\n",
    "\n",
    "* labor market tightness $\\theta$ (which affects how likely they successfully hire!)"
   ]
  },
  {
   "cell_type": "markdown",
   "metadata": {
    "slideshow": {
     "slide_type": "subslide"
    }
   },
   "source": [
    "## Working out equilibrium\n",
    "\n",
    "A *search and matching equilibrium* is a wage setting outcome $w^{\\star}$ and an allocation $(\\theta^{\\star}, Q^{\\star})$ such that:\n",
    "\n",
    "1. $w^{\\star}$ is the Nash bargaining solution;\n",
    "\n",
    "2. Given $w$, firms maximize expected profit from posting vacancies (free entry). (This determines $\\theta$.)\n",
    "\n",
    "3. Consumers (optimize) by choosing $Q$ given $w$, $\\theta$ (and given $b$)."
   ]
  },
  {
   "cell_type": "markdown",
   "metadata": {
    "slideshow": {
     "slide_type": "subslide"
    }
   },
   "source": [
    "### Other variables of interest\n",
    "\n",
    "* Unemployment rate is $u = \\frac{Q(1-p_{c}(\\theta))}{Q} \\equiv 1-p_{c}(\\theta)$.\n",
    "\n",
    "* Vacancy rate is $v = \\frac{A(1-p_{f}(\\theta))}{A} \\equiv 1-p_{f}(\\theta)$.\n",
    "\n",
    "* Aggregate output is $Y = z \\times e \\times m(Q,A) \\equiv z \\times Qp_{c}(\\theta)$."
   ]
  },
  {
   "cell_type": "markdown",
   "metadata": {
    "slideshow": {
     "slide_type": "slide"
    }
   },
   "source": [
    "# Exercises"
   ]
  },
  {
   "cell_type": "markdown",
   "metadata": {
    "slideshow": {
     "slide_type": "subslide"
    }
   },
   "source": [
    "## Exercise 0\n",
    "\n",
    "1. Using the SME conditions defined above sketch and show how an equilibrium is determined. Discuss again how this is different to standard ideas of centralized markets with demand equaling supply.\n",
    "\n",
    "2. Use the ``Python`` class defined above an see if you can work out the baseline model's equilibrium numerically."
   ]
  },
  {
   "cell_type": "markdown",
   "metadata": {
    "slideshow": {
     "slide_type": "subslide"
    }
   },
   "source": [
    "## Exercise 1\n",
    "\n",
    "What happens to the unemployment and vacancy rates if\n",
    "\n",
    "1. $b$ increases? \n",
    "\n",
    "2. $z$ falls?\n",
    "\n",
    "3. $e$ falls?\n",
    "\n",
    "Analyze and explain."
   ]
  },
  {
   "cell_type": "markdown",
   "metadata": {
    "slideshow": {
     "slide_type": "subslide"
    }
   },
   "source": [
    "## Exercise 2\n",
    "\n",
    "How do we rationalize and explain a phenomenon like Fact 2 above using this model?"
   ]
  },
  {
   "cell_type": "markdown",
   "metadata": {
    "slideshow": {
     "slide_type": "subslide"
    }
   },
   "source": [
    "## Exercise 3\n",
    "\n",
    "Adapt the code example above to compute and illustrate plots for your analyses in Exercise 1 earlier."
   ]
  },
  {
   "cell_type": "markdown",
   "metadata": {
    "slideshow": {
     "slide_type": "slide"
    }
   },
   "source": [
    "# Accounting for business-cycle statistics\n",
    "\n",
    "Here's [our replication of a global, nonlinear solution of a dynamic and stochastic version of the two-sided search model](https://github.com/phantomachine/courses/blob/master/Petrosky-Nadeau-Zhang%20Revisits%20Hagedorn-Manovskii%20DMP.html).\n",
    "\n",
    "It accounts for some of the business cycle facts originally summarized in HM's paper quite well.\n",
    "\n",
    "This is advanced material taught typically in a second-year PhD program."
   ]
  },
  {
   "cell_type": "markdown",
   "metadata": {
    "slideshow": {
     "slide_type": "slide"
    }
   },
   "source": [
    "# Readings\n",
    "\n",
    "* Williamson, S. (2018), *Macroeconomics* (6th edition). Pearson Publishers. (Chapter 6).\n",
    "\n",
    "* Hagedorn, Marcus, and Iourii Manovskii. 2008. [\"The Cyclical Behavior of Equilibrium Unemployment and Vacancies Revisited.\" American Economic Review, 98 (4): 1692-1706](https://doi.org/10.1257/aer.98.4.1692).\n",
    "\n",
    "* Shimer, Robert. 2005. [\"The Cyclical Behavior of Equilibrium Unemployment and Vacancies.\" American Economic Review, 95 (1): 25-49](https://doi.org/10.1257/0002828053828572). \n",
    "\n",
    "* Petrosky‐Nadeau, N. and Zhang, L. (2017), [\"Solving the Diamond–Mortensen–Pissarides model accurately.\" *Quantitative Economics*, 8: 611-650](https://doi.org/10.3982/QE452)\n",
    "\n",
    "* Ljungqvist, L. and Sargent, T. (2019), *Recursive Macroeconomic Theory* (4th edition). (Chapter 6)."
   ]
  }
 ],
 "metadata": {
  "celltoolbar": "Slideshow",
  "kernelspec": {
   "display_name": "Python 3",
   "language": "python",
   "name": "python3"
  },
  "language_info": {
   "codemirror_mode": {
    "name": "ipython",
    "version": 3
   },
   "file_extension": ".py",
   "mimetype": "text/x-python",
   "name": "python",
   "nbconvert_exporter": "python",
   "pygments_lexer": "ipython3",
   "version": "3.6.10"
  },
  "latex_envs": {
   "LaTeX_envs_menu_present": true,
   "autoclose": false,
   "autocomplete": true,
   "bibliofile": "biblio.bib",
   "cite_by": "apalike",
   "current_citInitial": 1,
   "eqLabelWithNumbers": true,
   "eqNumInitial": 1,
   "hotkeys": {
    "equation": "Ctrl-E",
    "itemize": "Ctrl-I"
   },
   "labels_anchors": false,
   "latex_user_defs": false,
   "report_style_numbering": false,
   "user_envs_cfg": false
  },
  "toc": {
   "base_numbering": 1,
   "nav_menu": {},
   "number_sections": true,
   "sideBar": true,
   "skip_h1_title": false,
   "title_cell": "Table of Contents",
   "title_sidebar": "Contents",
   "toc_cell": true,
   "toc_position": {
    "height": "215px",
    "left": "1573px",
    "top": "160.281px",
    "width": "346.984px"
   },
   "toc_section_display": true,
   "toc_window_display": true
  }
 },
 "nbformat": 4,
 "nbformat_minor": 4
}
